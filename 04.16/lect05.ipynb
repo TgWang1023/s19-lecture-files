{
 "cells": [
  {
   "cell_type": "markdown",
   "metadata": {},
   "source": [
    "<em>We'll start off by importing numpy and the linear algebra class (linalg) from numpy</em>"
   ]
  },
  {
   "cell_type": "code",
   "execution_count": null,
   "metadata": {},
   "outputs": [],
   "source": [
    "import numpy as np\n",
    "import numpy.linalg as npla"
   ]
  },
  {
   "cell_type": "markdown",
   "metadata": {},
   "source": [
    "***Cholesky Example***"
   ]
  },
  {
   "cell_type": "code",
   "execution_count": null,
   "metadata": {},
   "outputs": [],
   "source": [
    "C = np.array([[5, 5, 5],[5,6,5],[5,5,8]])\n",
    "print(\"C:\\n\", C,\"\\n\\nC.T:\\n\",C.T,\"\\n\")\n",
    "L = npla.cholesky(C)\n",
    "print(\"L:\\n\",L,\"\\n\")\n",
    "print(\"L@LT:\\n\", L @ L.T)\n",
    "\n",
    "x = np.array([-11,55,10])\n",
    "print(\"\\nxT@C@x:\\n\", x.T@C@x)"
   ]
  },
  {
   "cell_type": "markdown",
   "metadata": {},
   "source": [
    "***Finding Eigenvalues***\n",
    "\n",
    "*Note: npla.eig(C)[0] gives you the eigenvalues, [1] gives you the eigenvectors*"
   ]
  },
  {
   "cell_type": "code",
   "execution_count": null,
   "metadata": {},
   "outputs": [],
   "source": [
    "lambdas = npla.eig(C)\n",
    "print(lambdas[0])"
   ]
  },
  {
   "cell_type": "code",
   "execution_count": null,
   "metadata": {},
   "outputs": [],
   "source": [
    "lambdas = npla.eig(np.array([[2,1],[1,2]]))\n",
    "print(lambdas[0])"
   ]
  },
  {
   "cell_type": "markdown",
   "metadata": {},
   "source": [
    "***QR Factorization Examples***"
   ]
  },
  {
   "cell_type": "code",
   "execution_count": null,
   "metadata": {},
   "outputs": [],
   "source": [
    "A = np.array([[1,2],[3,4]])\n",
    "Q, R = npla.qr(A)\n",
    "print(\"Q:\\n\", Q,\"\\nR:\\n\", R, \"\\nQ@R:\\n\", Q@R)"
   ]
  },
  {
   "cell_type": "code",
   "execution_count": null,
   "metadata": {},
   "outputs": [],
   "source": [
    "A = np.array([[1,2,4],[0,0,5],[0,3,6]])\n",
    "Q, R = npla.qr(A, mode='reduced')\n",
    "print(\"Q:\\n\", Q,\"\\nR:\\n\", R, \"\\nQ@R:\\n\", Q@R)"
   ]
  },
  {
   "cell_type": "markdown",
   "metadata": {},
   "source": [
    "***Examples of stability in matrices***"
   ]
  },
  {
   "cell_type": "code",
   "execution_count": null,
   "metadata": {},
   "outputs": [],
   "source": [
    "A = np.array([[1,1000],[0,1]])\n",
    "b1 = np.array([0,1])\n",
    "x1 = npla.solve(A,b1)\n",
    "\n",
    "x2 = np.array([-999.999, 1.001])\n",
    "\n",
    "print(\"x1:\", x1, \"\\nx2:\", x2)\n",
    "print(\"\\nA @ x1:\", A@x1)\n",
    "print(\"A @ x2:\", A@x2)\n",
    "print(\"\\nresidual norm:\", npla.norm(b1 - A@x2))\n",
    "print(\"\\ncondition number of A:\\n\",npla.cond(A))"
   ]
  },
  {
   "cell_type": "code",
   "execution_count": null,
   "metadata": {},
   "outputs": [],
   "source": [
    "A = np.array([[1,9],[9,1]])\n",
    "b1 = np.array([9,1])\n",
    "x1 = npla.solve(A,b1)\n",
    "\n",
    "x2 = np.array([0.001, 0.999])\n",
    "\n",
    "print(\"x1:\", x1, \"\\nx2:\", x2)\n",
    "print(\"\\nA @ x1:\", A@x1)\n",
    "print(\"A @ x2:\", A@x2)\n",
    "print(\"\\nresidual norm:\", npla.norm(b1 - A@x2))\n",
    "print(\"\\ncondition number of A:\\n\",npla.cond(A))"
   ]
  },
  {
   "cell_type": "code",
   "execution_count": null,
   "metadata": {},
   "outputs": [],
   "source": [
    "A = np.array([[1,1,0],[1,0,1],[0,1,1]])\n",
    "b1 = np.array([1,2,1])\n",
    "x1 = npla.solve(A,b1)\n",
    "\n",
    "x2 = np.array([1.1,0.1,1])\n",
    "\n",
    "print(\"x1:\", x1, \"\\nx2:\", x2)\n",
    "print(\"\\nA @ x1:\", A@x1)\n",
    "print(\"A @ x2:\", A@x2)\n",
    "print(\"\\nresidual norm:\", npla.norm(b1 - A@x2))\n",
    "print(\"\\ncondition number of A:\\n\",npla.cond(A))"
   ]
  }
 ],
 "metadata": {
  "kernelspec": {
   "display_name": "Python 3",
   "language": "python",
   "name": "python3"
  },
  "language_info": {
   "codemirror_mode": {
    "name": "ipython",
    "version": 3
   },
   "file_extension": ".py",
   "mimetype": "text/x-python",
   "name": "python",
   "nbconvert_exporter": "python",
   "pygments_lexer": "ipython3",
   "version": "3.7.2"
  }
 },
 "nbformat": 4,
 "nbformat_minor": 2
}
